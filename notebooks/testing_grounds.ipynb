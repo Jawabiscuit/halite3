{
 "cells": [
  {
   "cell_type": "markdown",
   "metadata": {
    "ein.tags": "worksheet-0",
    "slideshow": {
     "slide_type": "-"
    }
   },
   "source": [
    "## [Introduction - Halite III (2018) AI Coding Competition p.1](https://pythonprogramming.net/introduction-halite-iii-ai-coding-competition/)\n"
   ]
  },
  {
   "cell_type": "code",
   "execution_count": null,
   "metadata": {
    "autoscroll": false,
    "collapsed": false,
    "ein.hycell": false,
    "ein.tags": "worksheet-0",
    "slideshow": {
     "slide_type": "-"
    }
   },
   "outputs": [],
   "source": [
    "size = 3\n",
    "contents = []\n",
    "\n",
    "for y in range(-1 * size, size + 1):\n",
    "    row = []\n",
    "    for x in range(-1 * size, size + 1):\n",
    "        row.append([x, y])\n",
    "    contents.append(row)\n",
    "\n",
    "# print content\n",
    "print(contents)\n",
    "\n",
    "# print dimensions\n",
    "print(len(contents[0]))\n",
    "print(len(contents))"
   ]
  },
  {
   "cell_type": "code",
   "execution_count": null,
   "metadata": {
    "autoscroll": false,
    "collapsed": false,
    "ein.hycell": false,
    "ein.tags": "worksheet-0",
    "slideshow": {
     "slide_type": "-"
    }
   },
   "outputs": [],
   "source": [
    "import sys\n",
    "sys.path.append('Q:/Halite')"
   ]
  },
  {
   "cell_type": "code",
   "execution_count": null,
   "metadata": {
    "autoscroll": false,
    "collapsed": false,
    "ein.hycell": false,
    "ein.tags": "worksheet-0",
    "slideshow": {
     "slide_type": "-"
    }
   },
   "outputs": [],
   "source": [
    "# Python 3.6\n",
    "import hlt                              # main halite stuff\n",
    "from hlt import constants               # halite constants\n",
    "from hlt.positionals import Direction   # helper for moving\n",
    "import random                           # randomly picking a choice for now.\n",
    "import logging                          # logging stuff to console"
   ]
  },
  {
   "cell_type": "code",
   "execution_count": null,
   "metadata": {
    "autoscroll": false,
    "collapsed": false,
    "ein.hycell": false,
    "ein.tags": "worksheet-0",
    "slideshow": {
     "slide_type": "-"
    }
   },
   "outputs": [],
   "source": [
    "# game object\n",
    "game = hlt.Game()\n",
    "\n",
    "# Initializes the game\n",
    "game.ready(\"jawabot-ml\")"
   ]
  },
  {
   "cell_type": "code",
   "execution_count": null,
   "metadata": {
    "autoscroll": false,
    "collapsed": false,
    "ein.hycell": false,
    "ein.tags": "worksheet-0",
    "slideshow": {
     "slide_type": "-"
    }
   },
   "outputs": [],
   "source": [
    "while True:\n",
    "    # This loop handles each turn of the game.\n",
    "    # The game object changes every turn, and you refresh that state by\n",
    "    game.update_frame()\n",
    "\n",
    "    # You extract player metadata and the updated map metadata here for convenience.\n",
    "    me = game.me\n",
    "\n",
    "    '''\n",
    "    comes from game, game comes from before the loop, hlt.Game points to networking, which is where you will\n",
    "    find the actual Game class (hlt/networking.py). From here, GameMap is imported from hlt/game_map.py.\n",
    "\n",
    "    open that file to seee all the things we do with game map.'''\n",
    "    game_map = game.game_map  # game map data. Recall game is\n",
    "\n",
    "    # A command queue holds all the commands you will run this turn. You build this list up and submit it at the\n",
    "    #   end of the turn.\n",
    "    command_queue = []\n",
    "\n",
    "    # specify the order we know this all to be\n",
    "    direction_order = [Direction.North, Direction.South, Direction.East, Direction.West, Direction.Still]\n",
    "\n",
    "    for ship in me.get_ships():\n",
    "        logging.info(f\"{ ship.position}, {ship.position + Position(-3, 3) }\")\n",
    "        logging.info(f\"{ game_map[ship.position + Position(-3, 3)] }\")\n",
    "\n",
    "        contents = []\n",
    "        \n",
    "        for y in range(-1 * size, size + 1):\n",
    "            row = []\n",
    "            for x in range(-1 * size, size + 1):\n",
    "                row.append([x, y])\n",
    "            contents.append(row)\n",
    "        \n",
    "        command_queue.append(ship.move(Direction.Still))\n",
    "\n",
    "    # ship costs 1000, dont make a ship on a ship or they both sink\n",
    "    if len(me.get_ships()) < 1):\n",
    "        if me.halite_amount >= constants.SHIP_COST and not game_map[me.shipyard].is_occupied:\n",
    "            command_queue.append(me.shipyard.spawn())\n",
    "\n",
    "    # Send your moves back to the game environment, ending this turn.\n",
    "    game.end_turn(command_queue)\n"
   ]
  }
 ],
 "metadata": {
  "name": "testing_grounds.ipynb"
 },
 "nbformat": 4,
 "nbformat_minor": 2
}
